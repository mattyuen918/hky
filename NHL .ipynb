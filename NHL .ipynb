{
 "cells": [
  {
   "cell_type": "markdown",
   "metadata": {},
   "source": [
    "# MATH 210 - Player Leaderboards in the NHL - Matthew Yuen"
   ]
  },
  {
   "cell_type": "markdown",
   "metadata": {},
   "source": [
    "The [National Hockey League](https://en.wikipedia.org/wiki/National_Hockey_League) or NHL for short, is a professional ice hockey league in North America consisting of teams from Canada and the United States. \n",
    "\n",
    "The goal of this project is to examine the number of points accumulated among the top 50 NHL players from the 2007-2008 season up to the 2016-2017 season*. \n",
    "\n",
    "\n",
    "*as of March 31th, 2017 1pm. "
   ]
  },
  {
   "cell_type": "markdown",
   "metadata": {},
   "source": [
    "Our data is collected from [sportingcharts.com](https://www.sportingcharts.com/nhl/stats/nhl-scoring-leaders/). In this website we can also find data for the NBA, MLB and NFL. For this project we will just focus on the NHL. "
   ]
  },
  {
   "cell_type": "markdown",
   "metadata": {},
   "source": [
    "** Why should we care about hockey data? ** \n",
    "\n",
    "Hockey Data is interesting because it can tell a lot about which players are the most skilled by looking at their point totals and the number of times they have reached those numbers. Hockey Data can also tell which players are more likely to fight or rough up their opponents by looking at their penalty minutes in comparison to their point stats. Hockey data are important for scouts as they potentially determine which players get drafted into professional leagues. "
   ]
  },
  {
   "cell_type": "markdown",
   "metadata": {},
   "source": [
    "** The questions we would like to address: **"
   ]
  },
  {
   "cell_type": "markdown",
   "metadata": {},
   "source": [
    "   1) Which year of the 10 seasons had the highest number of points scored? Least points?\n",
    "  \n",
    "   2) Which of the 10 seasons produced the most productive rookies? \n",
    "   \n",
    "   3) Which defenceman has the most points in the top 50 leaderboard and how does their ranking stand in relation to other players in the league? \n",
    "  \n",
    "   4) What's the difference in points between Sidney Crosby and Alex Ovechkin?\n",
    "    \n",
    "   5) Which Sedin twin is a better scorer and which twin is the better passer?  "
   ]
  },
  {
   "cell_type": "markdown",
   "metadata": {},
   "source": [
    "### Contents: \n",
    "\n",
    "1. Data Setup\n",
    "2. Exploring the Data\n",
    "\n",
    "    2.1. Highest and Lowest Scoring Players\n",
    "    \n",
    "    2.2. Rookies by Year\n",
    "    \n",
    "    2.3. Top Defenceman\n",
    "    \n",
    "    2.4. Sidney Crosby vs. Alexander Ovechkin\n",
    "    \n",
    "    2.5. Sedin Twins"
   ]
  },
  {
   "cell_type": "code",
   "execution_count": 1,
   "metadata": {
    "collapsed": true
   },
   "outputs": [],
   "source": [
    "import pandas as pd\n",
    "import matplotlib.pyplot as plt\n",
    "%matplotlib inline"
   ]
  },
  {
   "cell_type": "markdown",
   "metadata": {},
   "source": [
    "## 1. Data Setup\n",
    "\n",
    "Let's begin by setting up the data we will use:"
   ]
  },
  {
   "cell_type": "code",
   "execution_count": 2,
   "metadata": {},
   "outputs": [
    {
     "data": {
      "text/html": [
       "<div>\n",
       "<table border=\"1\" class=\"dataframe\">\n",
       "  <thead>\n",
       "    <tr style=\"text-align: right;\">\n",
       "      <th></th>\n",
       "      <th>Name</th>\n",
       "      <th>Team</th>\n",
       "      <th>POS</th>\n",
       "      <th>GP</th>\n",
       "      <th>G</th>\n",
       "      <th>A</th>\n",
       "      <th>PTS</th>\n",
       "      <th>Points per Game</th>\n",
       "      <th>Year</th>\n",
       "    </tr>\n",
       "  </thead>\n",
       "  <tbody>\n",
       "    <tr>\n",
       "      <th>0</th>\n",
       "      <td>Alex Ovechkin</td>\n",
       "      <td>WAS</td>\n",
       "      <td>LW</td>\n",
       "      <td>82</td>\n",
       "      <td>65</td>\n",
       "      <td>47</td>\n",
       "      <td>112</td>\n",
       "      <td>1.37</td>\n",
       "      <td>2007</td>\n",
       "    </tr>\n",
       "    <tr>\n",
       "      <th>1</th>\n",
       "      <td>Evgeni Malkin</td>\n",
       "      <td>PIT</td>\n",
       "      <td>C</td>\n",
       "      <td>82</td>\n",
       "      <td>47</td>\n",
       "      <td>59</td>\n",
       "      <td>106</td>\n",
       "      <td>1.29</td>\n",
       "      <td>2007</td>\n",
       "    </tr>\n",
       "    <tr>\n",
       "      <th>2</th>\n",
       "      <td>Jarome Iginla</td>\n",
       "      <td>CGY</td>\n",
       "      <td>RW</td>\n",
       "      <td>82</td>\n",
       "      <td>50</td>\n",
       "      <td>48</td>\n",
       "      <td>98</td>\n",
       "      <td>1.20</td>\n",
       "      <td>2007</td>\n",
       "    </tr>\n",
       "    <tr>\n",
       "      <th>3</th>\n",
       "      <td>Pavel Datsyuk</td>\n",
       "      <td>DET</td>\n",
       "      <td>LW</td>\n",
       "      <td>82</td>\n",
       "      <td>31</td>\n",
       "      <td>66</td>\n",
       "      <td>97</td>\n",
       "      <td>1.18</td>\n",
       "      <td>2007</td>\n",
       "    </tr>\n",
       "    <tr>\n",
       "      <th>4</th>\n",
       "      <td>Joe Thornton</td>\n",
       "      <td>SJ</td>\n",
       "      <td>C</td>\n",
       "      <td>82</td>\n",
       "      <td>29</td>\n",
       "      <td>67</td>\n",
       "      <td>96</td>\n",
       "      <td>1.17</td>\n",
       "      <td>2007</td>\n",
       "    </tr>\n",
       "  </tbody>\n",
       "</table>\n",
       "</div>"
      ],
      "text/plain": [
       "            Name Team POS  GP   G   A  PTS  Points per Game  Year\n",
       "0  Alex Ovechkin  WAS  LW  82  65  47  112             1.37  2007\n",
       "1  Evgeni Malkin  PIT   C  82  47  59  106             1.29  2007\n",
       "2  Jarome Iginla  CGY  RW  82  50  48   98             1.20  2007\n",
       "3  Pavel Datsyuk  DET  LW  82  31  66   97             1.18  2007\n",
       "4   Joe Thornton   SJ   C  82  29  67   96             1.17  2007"
      ]
     },
     "execution_count": 2,
     "metadata": {},
     "output_type": "execute_result"
    }
   ],
   "source": [
    "NHL07 = pd.read_csv('nhl20072008.csv')\n",
    "NHL07['Year'] = 2007 # Adding a column telling the year of the season \n",
    "NHL07.head()"
   ]
  },
  {
   "cell_type": "code",
   "execution_count": 3,
   "metadata": {
    "collapsed": true
   },
   "outputs": [],
   "source": [
    "# The next 9 seasons. \n",
    "NHL08 = pd.read_csv('nhl20082009.csv')\n",
    "NHL08['Year'] = 2008\n",
    "NHL09 = pd.read_csv('nhl20092010.csv')\n",
    "NHL09['Year'] = 2009\n",
    "NHL10 = pd.read_csv('nhl20102011.csv')\n",
    "NHL10['Year'] = 2010\n",
    "NHL11 = pd.read_csv('nhl20112012.csv')\n",
    "NHL11['Year'] = 2011\n",
    "NHL12 = pd.read_csv('nhl20122013.csv')\n",
    "NHL12['Year'] = 2012\n",
    "NHL13 = pd.read_csv('nhl20132014.csv')\n",
    "NHL13['Year'] = 2013\n",
    "NHL14 = pd.read_csv('nhl20142015.csv')\n",
    "NHL14['Year'] = 2014\n",
    "NHL15 = pd.read_csv('nhl20152016.csv')\n",
    "NHL15['Year'] = 2015\n",
    "NHL16 = pd.read_csv('nhl20162017.csv')\n",
    "NHL16['Year'] = 2016"
   ]
  },
  {
   "cell_type": "markdown",
   "metadata": {},
   "source": [
    "We added `NHL__['Year'] = 20__` to help keep track of what year is the list for when we combine all the data into a single data frame."
   ]
  },
  {
   "cell_type": "code",
   "execution_count": 4,
   "metadata": {
    "collapsed": true
   },
   "outputs": [],
   "source": [
    "frames = [NHL07,NHL08,NHL09,NHL10,NHL11,NHL12,NHL13,NHL14,NHL15,NHL16]"
   ]
  },
  {
   "cell_type": "code",
   "execution_count": 5,
   "metadata": {},
   "outputs": [],
   "source": [
    "NHLdata = pd.concat(frames)"
   ]
  },
  {
   "cell_type": "code",
   "execution_count": 6,
   "metadata": {
    "scrolled": true
   },
   "outputs": [
    {
     "data": {
      "text/html": [
       "<div>\n",
       "<table border=\"1\" class=\"dataframe\">\n",
       "  <thead>\n",
       "    <tr style=\"text-align: right;\">\n",
       "      <th></th>\n",
       "      <th>Name</th>\n",
       "      <th>Team</th>\n",
       "      <th>POS</th>\n",
       "      <th>GP</th>\n",
       "      <th>G</th>\n",
       "      <th>A</th>\n",
       "      <th>PTS</th>\n",
       "      <th>Points per Game</th>\n",
       "      <th>Year</th>\n",
       "    </tr>\n",
       "  </thead>\n",
       "  <tbody>\n",
       "    <tr>\n",
       "      <th>0</th>\n",
       "      <td>Alex Ovechkin</td>\n",
       "      <td>WAS</td>\n",
       "      <td>LW</td>\n",
       "      <td>82</td>\n",
       "      <td>65</td>\n",
       "      <td>47</td>\n",
       "      <td>112</td>\n",
       "      <td>1.37</td>\n",
       "      <td>2007</td>\n",
       "    </tr>\n",
       "    <tr>\n",
       "      <th>1</th>\n",
       "      <td>Evgeni Malkin</td>\n",
       "      <td>PIT</td>\n",
       "      <td>C</td>\n",
       "      <td>82</td>\n",
       "      <td>47</td>\n",
       "      <td>59</td>\n",
       "      <td>106</td>\n",
       "      <td>1.29</td>\n",
       "      <td>2007</td>\n",
       "    </tr>\n",
       "    <tr>\n",
       "      <th>2</th>\n",
       "      <td>Jarome Iginla</td>\n",
       "      <td>CGY</td>\n",
       "      <td>RW</td>\n",
       "      <td>82</td>\n",
       "      <td>50</td>\n",
       "      <td>48</td>\n",
       "      <td>98</td>\n",
       "      <td>1.20</td>\n",
       "      <td>2007</td>\n",
       "    </tr>\n",
       "    <tr>\n",
       "      <th>3</th>\n",
       "      <td>Pavel Datsyuk</td>\n",
       "      <td>DET</td>\n",
       "      <td>LW</td>\n",
       "      <td>82</td>\n",
       "      <td>31</td>\n",
       "      <td>66</td>\n",
       "      <td>97</td>\n",
       "      <td>1.18</td>\n",
       "      <td>2007</td>\n",
       "    </tr>\n",
       "    <tr>\n",
       "      <th>4</th>\n",
       "      <td>Joe Thornton</td>\n",
       "      <td>SJ</td>\n",
       "      <td>C</td>\n",
       "      <td>82</td>\n",
       "      <td>29</td>\n",
       "      <td>67</td>\n",
       "      <td>96</td>\n",
       "      <td>1.17</td>\n",
       "      <td>2007</td>\n",
       "    </tr>\n",
       "  </tbody>\n",
       "</table>\n",
       "</div>"
      ],
      "text/plain": [
       "            Name Team POS  GP   G   A  PTS  Points per Game  Year\n",
       "0  Alex Ovechkin  WAS  LW  82  65  47  112             1.37  2007\n",
       "1  Evgeni Malkin  PIT   C  82  47  59  106             1.29  2007\n",
       "2  Jarome Iginla  CGY  RW  82  50  48   98             1.20  2007\n",
       "3  Pavel Datsyuk  DET  LW  82  31  66   97             1.18  2007\n",
       "4   Joe Thornton   SJ   C  82  29  67   96             1.17  2007"
      ]
     },
     "execution_count": 6,
     "metadata": {},
     "output_type": "execute_result"
    }
   ],
   "source": [
    "NHLdata.head()"
   ]
  },
  {
   "cell_type": "code",
   "execution_count": 7,
   "metadata": {},
   "outputs": [
    {
     "name": "stdout",
     "output_type": "stream",
     "text": [
      "<class 'pandas.core.frame.DataFrame'>\n",
      "Int64Index: 500 entries, 0 to 49\n",
      "Data columns (total 9 columns):\n",
      "Name               500 non-null object\n",
      "Team               500 non-null object\n",
      "POS                500 non-null object\n",
      "GP                 500 non-null int64\n",
      "G                  500 non-null int64\n",
      "A                  500 non-null int64\n",
      "PTS                500 non-null int64\n",
      "Points per Game    500 non-null float64\n",
      "Year               500 non-null int64\n",
      "dtypes: float64(1), int64(5), object(3)\n",
      "memory usage: 39.1+ KB\n"
     ]
    }
   ],
   "source": [
    "NHLdata.info()"
   ]
  },
  {
   "cell_type": "markdown",
   "metadata": {},
   "source": [
    "From here we can see that: \n",
    "\n",
    "** Name **: Is a string representing the player's first and last name\n",
    "\n",
    "** Team **: Is a string representing the player's team in that season\n",
    "\n",
    "** POS **: Is a string representing the player's position \n",
    "\n",
    "** GP **: Is an integer representing the total number of games played that season. There are 82 games a season. \n",
    "\n",
    "** G **: Is an integer representing the number of goals that player scored \n",
    "\n",
    "** A **: Is an integer representing the number of assists the player scored. Assists are awarded to players who set up the initial goal. Two assists can be awarded on one goal, but we won't separate who got the primary and secondary assist. \n",
    "\n",
    "** PTS **: Is an integer representing the total number of points the player recorded that season. Points is equal to the G+A\n",
    "\n",
    "** Points per Game **: Is a float representing the average number of points the player received each game. It can be calculated by PTS/GP\n",
    "\n",
    "** Year **: Is an integer representing the year the data is from "
   ]
  },
  {
   "cell_type": "markdown",
   "metadata": {},
   "source": [
    "Now let's separate the player names from `NHLdata` so that we can analyze the list more easily. "
   ]
  },
  {
   "cell_type": "code",
   "execution_count": 7,
   "metadata": {},
   "outputs": [],
   "source": [
    "Names = NHLdata['Name']"
   ]
  },
  {
   "cell_type": "code",
   "execution_count": 8,
   "metadata": {
    "collapsed": true
   },
   "outputs": [],
   "source": [
    "get_names = NHLdata.set_index('Name')"
   ]
  },
  {
   "cell_type": "code",
   "execution_count": 9,
   "metadata": {},
   "outputs": [
    {
     "data": {
      "text/html": [
       "<div>\n",
       "<table border=\"1\" class=\"dataframe\">\n",
       "  <thead>\n",
       "    <tr style=\"text-align: right;\">\n",
       "      <th></th>\n",
       "      <th>Team</th>\n",
       "      <th>POS</th>\n",
       "      <th>GP</th>\n",
       "      <th>G</th>\n",
       "      <th>A</th>\n",
       "      <th>PTS</th>\n",
       "      <th>Points per Game</th>\n",
       "      <th>Year</th>\n",
       "    </tr>\n",
       "    <tr>\n",
       "      <th>Name</th>\n",
       "      <th></th>\n",
       "      <th></th>\n",
       "      <th></th>\n",
       "      <th></th>\n",
       "      <th></th>\n",
       "      <th></th>\n",
       "      <th></th>\n",
       "      <th></th>\n",
       "    </tr>\n",
       "  </thead>\n",
       "  <tbody>\n",
       "    <tr>\n",
       "      <th>Alex Ovechkin</th>\n",
       "      <td>WAS</td>\n",
       "      <td>LW</td>\n",
       "      <td>82</td>\n",
       "      <td>65</td>\n",
       "      <td>47</td>\n",
       "      <td>112</td>\n",
       "      <td>1.37</td>\n",
       "      <td>2007</td>\n",
       "    </tr>\n",
       "    <tr>\n",
       "      <th>Evgeni Malkin</th>\n",
       "      <td>PIT</td>\n",
       "      <td>C</td>\n",
       "      <td>82</td>\n",
       "      <td>47</td>\n",
       "      <td>59</td>\n",
       "      <td>106</td>\n",
       "      <td>1.29</td>\n",
       "      <td>2007</td>\n",
       "    </tr>\n",
       "    <tr>\n",
       "      <th>Jarome Iginla</th>\n",
       "      <td>CGY</td>\n",
       "      <td>RW</td>\n",
       "      <td>82</td>\n",
       "      <td>50</td>\n",
       "      <td>48</td>\n",
       "      <td>98</td>\n",
       "      <td>1.20</td>\n",
       "      <td>2007</td>\n",
       "    </tr>\n",
       "    <tr>\n",
       "      <th>Pavel Datsyuk</th>\n",
       "      <td>DET</td>\n",
       "      <td>LW</td>\n",
       "      <td>82</td>\n",
       "      <td>31</td>\n",
       "      <td>66</td>\n",
       "      <td>97</td>\n",
       "      <td>1.18</td>\n",
       "      <td>2007</td>\n",
       "    </tr>\n",
       "    <tr>\n",
       "      <th>Joe Thornton</th>\n",
       "      <td>SJ</td>\n",
       "      <td>C</td>\n",
       "      <td>82</td>\n",
       "      <td>29</td>\n",
       "      <td>67</td>\n",
       "      <td>96</td>\n",
       "      <td>1.17</td>\n",
       "      <td>2007</td>\n",
       "    </tr>\n",
       "    <tr>\n",
       "      <th>Henrik Zetterberg</th>\n",
       "      <td>DET</td>\n",
       "      <td>C</td>\n",
       "      <td>75</td>\n",
       "      <td>43</td>\n",
       "      <td>49</td>\n",
       "      <td>92</td>\n",
       "      <td>1.23</td>\n",
       "      <td>2007</td>\n",
       "    </tr>\n",
       "    <tr>\n",
       "      <th>Vincent Lecavalier</th>\n",
       "      <td>TB</td>\n",
       "      <td>C</td>\n",
       "      <td>81</td>\n",
       "      <td>40</td>\n",
       "      <td>52</td>\n",
       "      <td>92</td>\n",
       "      <td>1.14</td>\n",
       "      <td>2007</td>\n",
       "    </tr>\n",
       "    <tr>\n",
       "      <th>Jason Spezza</th>\n",
       "      <td>OTT</td>\n",
       "      <td>C</td>\n",
       "      <td>76</td>\n",
       "      <td>34</td>\n",
       "      <td>58</td>\n",
       "      <td>92</td>\n",
       "      <td>1.21</td>\n",
       "      <td>2007</td>\n",
       "    </tr>\n",
       "    <tr>\n",
       "      <th>Daniel Alfredsson</th>\n",
       "      <td>OTT</td>\n",
       "      <td>RW</td>\n",
       "      <td>70</td>\n",
       "      <td>40</td>\n",
       "      <td>49</td>\n",
       "      <td>89</td>\n",
       "      <td>1.27</td>\n",
       "      <td>2007</td>\n",
       "    </tr>\n",
       "    <tr>\n",
       "      <th>Ilya Kovalchuk</th>\n",
       "      <td>ATL</td>\n",
       "      <td>LW</td>\n",
       "      <td>79</td>\n",
       "      <td>52</td>\n",
       "      <td>35</td>\n",
       "      <td>87</td>\n",
       "      <td>1.10</td>\n",
       "      <td>2007</td>\n",
       "    </tr>\n",
       "  </tbody>\n",
       "</table>\n",
       "</div>"
      ],
      "text/plain": [
       "                   Team POS  GP   G   A  PTS  Points per Game  Year\n",
       "Name                                                               \n",
       "Alex Ovechkin       WAS  LW  82  65  47  112             1.37  2007\n",
       "Evgeni Malkin       PIT   C  82  47  59  106             1.29  2007\n",
       "Jarome Iginla       CGY  RW  82  50  48   98             1.20  2007\n",
       "Pavel Datsyuk       DET  LW  82  31  66   97             1.18  2007\n",
       "Joe Thornton         SJ   C  82  29  67   96             1.17  2007\n",
       "Henrik Zetterberg   DET   C  75  43  49   92             1.23  2007\n",
       "Vincent Lecavalier   TB   C  81  40  52   92             1.14  2007\n",
       "Jason Spezza        OTT   C  76  34  58   92             1.21  2007\n",
       "Daniel Alfredsson   OTT  RW  70  40  49   89             1.27  2007\n",
       "Ilya Kovalchuk      ATL  LW  79  52  35   87             1.10  2007"
      ]
     },
     "execution_count": 9,
     "metadata": {},
     "output_type": "execute_result"
    }
   ],
   "source": [
    "get_names.head(10)"
   ]
  },
  {
   "cell_type": "markdown",
   "metadata": {},
   "source": [
    "We can see [Jaromir Jagr](https://en.wikipedia.org/wiki/Jarom%C3%ADr_J%C3%A1gr)'s stats for example: "
   ]
  },
  {
   "cell_type": "code",
   "execution_count": 31,
   "metadata": {},
   "outputs": [
    {
     "data": {
      "text/html": [
       "<div>\n",
       "<table border=\"1\" class=\"dataframe\">\n",
       "  <thead>\n",
       "    <tr style=\"text-align: right;\">\n",
       "      <th></th>\n",
       "      <th>Team</th>\n",
       "      <th>POS</th>\n",
       "      <th>GP</th>\n",
       "      <th>G</th>\n",
       "      <th>A</th>\n",
       "      <th>PTS</th>\n",
       "      <th>Points per Game</th>\n",
       "      <th>Year</th>\n",
       "    </tr>\n",
       "    <tr>\n",
       "      <th>Name</th>\n",
       "      <th></th>\n",
       "      <th></th>\n",
       "      <th></th>\n",
       "      <th></th>\n",
       "      <th></th>\n",
       "      <th></th>\n",
       "      <th></th>\n",
       "      <th></th>\n",
       "    </tr>\n",
       "  </thead>\n",
       "  <tbody>\n",
       "    <tr>\n",
       "      <th>Jaromir Jagr</th>\n",
       "      <td>NYR</td>\n",
       "      <td>RW</td>\n",
       "      <td>82</td>\n",
       "      <td>25</td>\n",
       "      <td>46</td>\n",
       "      <td>71</td>\n",
       "      <td>0.87</td>\n",
       "      <td>2007</td>\n",
       "    </tr>\n",
       "    <tr>\n",
       "      <th>Jaromir Jagr</th>\n",
       "      <td>NJ</td>\n",
       "      <td>RW</td>\n",
       "      <td>82</td>\n",
       "      <td>24</td>\n",
       "      <td>43</td>\n",
       "      <td>67</td>\n",
       "      <td>0.82</td>\n",
       "      <td>2013</td>\n",
       "    </tr>\n",
       "    <tr>\n",
       "      <th>Jaromir Jagr</th>\n",
       "      <td>FLA</td>\n",
       "      <td>RW</td>\n",
       "      <td>79</td>\n",
       "      <td>27</td>\n",
       "      <td>39</td>\n",
       "      <td>66</td>\n",
       "      <td>0.84</td>\n",
       "      <td>2015</td>\n",
       "    </tr>\n",
       "  </tbody>\n",
       "</table>\n",
       "</div>"
      ],
      "text/plain": [
       "             Team POS  GP   G   A  PTS  Points per Game  Year\n",
       "Name                                                         \n",
       "Jaromir Jagr  NYR  RW  82  25  46   71             0.87  2007\n",
       "Jaromir Jagr   NJ  RW  82  24  43   67             0.82  2013\n",
       "Jaromir Jagr  FLA  RW  79  27  39   66             0.84  2015"
      ]
     },
     "execution_count": 31,
     "metadata": {},
     "output_type": "execute_result"
    }
   ],
   "source": [
    "get_names.loc['Jaromir Jagr']"
   ]
  },
  {
   "cell_type": "markdown",
   "metadata": {},
   "source": [
    "Our data is listed in the order we combined them in when making the `NHL.data` dataframe. \n",
    "\n",
    "Recall: `frames = [NHL07,NHL08,NHL09,NHL10,NHL11,NHL12,NHL13,NHL14,NHL15,NHL16]` "
   ]
  },
  {
   "cell_type": "markdown",
   "metadata": {},
   "source": [
    "## 2. Exploring the Data"
   ]
  },
  {
   "cell_type": "markdown",
   "metadata": {},
   "source": [
    "### 2.1 - Who has the most points? \n",
    "\n",
    "Let's see who has scored the most points and in which season they did it in."
   ]
  },
  {
   "cell_type": "code",
   "execution_count": 10,
   "metadata": {
    "scrolled": true
   },
   "outputs": [
    {
     "data": {
      "text/html": [
       "<div>\n",
       "<table border=\"1\" class=\"dataframe\">\n",
       "  <thead>\n",
       "    <tr style=\"text-align: right;\">\n",
       "      <th></th>\n",
       "      <th>Name</th>\n",
       "      <th>Team</th>\n",
       "      <th>POS</th>\n",
       "      <th>GP</th>\n",
       "      <th>G</th>\n",
       "      <th>A</th>\n",
       "      <th>PTS</th>\n",
       "      <th>Points per Game</th>\n",
       "      <th>Year</th>\n",
       "    </tr>\n",
       "  </thead>\n",
       "  <tbody>\n",
       "    <tr>\n",
       "      <th>0</th>\n",
       "      <td>Evgeni Malkin</td>\n",
       "      <td>PIT</td>\n",
       "      <td>C</td>\n",
       "      <td>82</td>\n",
       "      <td>35</td>\n",
       "      <td>78</td>\n",
       "      <td>113</td>\n",
       "      <td>1.38</td>\n",
       "      <td>2008</td>\n",
       "    </tr>\n",
       "    <tr>\n",
       "      <th>0</th>\n",
       "      <td>Alex Ovechkin</td>\n",
       "      <td>WAS</td>\n",
       "      <td>LW</td>\n",
       "      <td>82</td>\n",
       "      <td>65</td>\n",
       "      <td>47</td>\n",
       "      <td>112</td>\n",
       "      <td>1.37</td>\n",
       "      <td>2007</td>\n",
       "    </tr>\n",
       "    <tr>\n",
       "      <th>0</th>\n",
       "      <td>Henrik Sedin</td>\n",
       "      <td>VAN</td>\n",
       "      <td>C</td>\n",
       "      <td>82</td>\n",
       "      <td>29</td>\n",
       "      <td>83</td>\n",
       "      <td>112</td>\n",
       "      <td>1.37</td>\n",
       "      <td>2009</td>\n",
       "    </tr>\n",
       "    <tr>\n",
       "      <th>1</th>\n",
       "      <td>Alex Ovechkin</td>\n",
       "      <td>WAS</td>\n",
       "      <td>LW</td>\n",
       "      <td>79</td>\n",
       "      <td>56</td>\n",
       "      <td>54</td>\n",
       "      <td>110</td>\n",
       "      <td>1.39</td>\n",
       "      <td>2008</td>\n",
       "    </tr>\n",
       "    <tr>\n",
       "      <th>2</th>\n",
       "      <td>Alex Ovechkin</td>\n",
       "      <td>WAS</td>\n",
       "      <td>LW</td>\n",
       "      <td>72</td>\n",
       "      <td>50</td>\n",
       "      <td>59</td>\n",
       "      <td>109</td>\n",
       "      <td>1.51</td>\n",
       "      <td>2009</td>\n",
       "    </tr>\n",
       "  </tbody>\n",
       "</table>\n",
       "</div>"
      ],
      "text/plain": [
       "            Name Team POS  GP   G   A  PTS  Points per Game  Year\n",
       "0  Evgeni Malkin  PIT   C  82  35  78  113             1.38  2008\n",
       "0  Alex Ovechkin  WAS  LW  82  65  47  112             1.37  2007\n",
       "0   Henrik Sedin  VAN   C  82  29  83  112             1.37  2009\n",
       "1  Alex Ovechkin  WAS  LW  79  56  54  110             1.39  2008\n",
       "2  Alex Ovechkin  WAS  LW  72  50  59  109             1.51  2009"
      ]
     },
     "execution_count": 10,
     "metadata": {},
     "output_type": "execute_result"
    }
   ],
   "source": [
    "most_points = NHLdata.sort_values(by = 'PTS',ascending=0)\n",
    "most_points.head()"
   ]
  },
  {
   "cell_type": "markdown",
   "metadata": {},
   "source": [
    "We can see that [Evgeni Malkin](https://en.wikipedia.org/wiki/Evgeni_Malkin) of the [Pittsburg Penguins](https://en.wikipedia.org/wiki/Pittsburgh_Penguins) scored the most points in 2008. He scored 35 Goals, 78 Assists totalling 113 points. "
   ]
  },
  {
   "cell_type": "code",
   "execution_count": 12,
   "metadata": {},
   "outputs": [
    {
     "data": {
      "text/html": [
       "<div>\n",
       "<table border=\"1\" class=\"dataframe\">\n",
       "  <thead>\n",
       "    <tr style=\"text-align: right;\">\n",
       "      <th></th>\n",
       "      <th>Name</th>\n",
       "      <th>Team</th>\n",
       "      <th>POS</th>\n",
       "      <th>GP</th>\n",
       "      <th>G</th>\n",
       "      <th>A</th>\n",
       "      <th>PTS</th>\n",
       "      <th>Points per Game</th>\n",
       "      <th>Year</th>\n",
       "    </tr>\n",
       "  </thead>\n",
       "  <tbody>\n",
       "    <tr>\n",
       "      <th>49</th>\n",
       "      <td>Tomas Fleischmann</td>\n",
       "      <td>FLA</td>\n",
       "      <td>LW</td>\n",
       "      <td>48</td>\n",
       "      <td>12</td>\n",
       "      <td>23</td>\n",
       "      <td>35</td>\n",
       "      <td>0.73</td>\n",
       "      <td>2012</td>\n",
       "    </tr>\n",
       "    <tr>\n",
       "      <th>48</th>\n",
       "      <td>Brad Boyes</td>\n",
       "      <td>NYI</td>\n",
       "      <td>RW</td>\n",
       "      <td>48</td>\n",
       "      <td>10</td>\n",
       "      <td>25</td>\n",
       "      <td>35</td>\n",
       "      <td>0.73</td>\n",
       "      <td>2012</td>\n",
       "    </tr>\n",
       "    <tr>\n",
       "      <th>46</th>\n",
       "      <td>Brad Marchand</td>\n",
       "      <td>BOS</td>\n",
       "      <td>C</td>\n",
       "      <td>45</td>\n",
       "      <td>18</td>\n",
       "      <td>18</td>\n",
       "      <td>36</td>\n",
       "      <td>0.80</td>\n",
       "      <td>2012</td>\n",
       "    </tr>\n",
       "    <tr>\n",
       "      <th>42</th>\n",
       "      <td>Patrik Elias</td>\n",
       "      <td>NJ</td>\n",
       "      <td>LW</td>\n",
       "      <td>48</td>\n",
       "      <td>14</td>\n",
       "      <td>22</td>\n",
       "      <td>36</td>\n",
       "      <td>0.75</td>\n",
       "      <td>2012</td>\n",
       "    </tr>\n",
       "    <tr>\n",
       "      <th>43</th>\n",
       "      <td>Teddy Purcell</td>\n",
       "      <td>TB</td>\n",
       "      <td>RW</td>\n",
       "      <td>48</td>\n",
       "      <td>11</td>\n",
       "      <td>25</td>\n",
       "      <td>36</td>\n",
       "      <td>0.75</td>\n",
       "      <td>2012</td>\n",
       "    </tr>\n",
       "  </tbody>\n",
       "</table>\n",
       "</div>"
      ],
      "text/plain": [
       "                 Name Team POS  GP   G   A  PTS  Points per Game  Year\n",
       "49  Tomas Fleischmann  FLA  LW  48  12  23   35             0.73  2012\n",
       "48         Brad Boyes  NYI  RW  48  10  25   35             0.73  2012\n",
       "46      Brad Marchand  BOS   C  45  18  18   36             0.80  2012\n",
       "42       Patrik Elias   NJ  LW  48  14  22   36             0.75  2012\n",
       "43      Teddy Purcell   TB  RW  48  11  25   36             0.75  2012"
      ]
     },
     "execution_count": 12,
     "metadata": {},
     "output_type": "execute_result"
    }
   ],
   "source": [
    "least_points = most_points.sort_values(by = 'PTS',ascending=1)\n",
    "least_points.head()"
   ]
  },
  {
   "cell_type": "markdown",
   "metadata": {},
   "source": [
    "In 2012, [Tomas Fleischmann](https://en.wikipedia.org/wiki/Tom%C3%A1%C5%A1_Fleischmann) of the [Florida Panthers](https://en.wikipedia.org/wiki/Florida_Panthers) and [Brad Boyes](https://en.wikipedia.org/wiki/Brad_Boyes) of the [New York Islanders](https://en.wikipedia.org/wiki/New_York_Islanders) both scored 35 points, the lowest of all players. Notice how both players only played 48 games? This was because in the [2012-2013 season](https://en.wikipedia.org/wiki/2012%E2%80%9313_NHL_season) the NHL experienced a lockout on a labour dispute. Players only played 48 games. "
   ]
  },
  {
   "cell_type": "code",
   "execution_count": 45,
   "metadata": {},
   "outputs": [
    {
     "data": {
      "text/html": [
       "<div>\n",
       "<table border=\"1\" class=\"dataframe\">\n",
       "  <thead>\n",
       "    <tr style=\"text-align: right;\">\n",
       "      <th></th>\n",
       "      <th>Name</th>\n",
       "      <th>Team</th>\n",
       "      <th>POS</th>\n",
       "      <th>GP</th>\n",
       "      <th>G</th>\n",
       "      <th>A</th>\n",
       "      <th>PTS</th>\n",
       "      <th>Points per Game</th>\n",
       "      <th>Year</th>\n",
       "    </tr>\n",
       "  </thead>\n",
       "  <tbody>\n",
       "    <tr>\n",
       "      <th>49</th>\n",
       "      <td>Jack Eichel</td>\n",
       "      <td>BUF</td>\n",
       "      <td>C</td>\n",
       "      <td>56</td>\n",
       "      <td>23</td>\n",
       "      <td>32</td>\n",
       "      <td>55</td>\n",
       "      <td>0.98</td>\n",
       "      <td>2016</td>\n",
       "    </tr>\n",
       "    <tr>\n",
       "      <th>41</th>\n",
       "      <td>Evgeny Kuznetsov</td>\n",
       "      <td>WAS</td>\n",
       "      <td>C</td>\n",
       "      <td>76</td>\n",
       "      <td>18</td>\n",
       "      <td>38</td>\n",
       "      <td>56</td>\n",
       "      <td>0.74</td>\n",
       "      <td>2016</td>\n",
       "    </tr>\n",
       "    <tr>\n",
       "      <th>42</th>\n",
       "      <td>James van Riemsdyk</td>\n",
       "      <td>TOR</td>\n",
       "      <td>LW</td>\n",
       "      <td>76</td>\n",
       "      <td>24</td>\n",
       "      <td>32</td>\n",
       "      <td>56</td>\n",
       "      <td>0.74</td>\n",
       "      <td>2016</td>\n",
       "    </tr>\n",
       "    <tr>\n",
       "      <th>43</th>\n",
       "      <td>Filip Forsberg</td>\n",
       "      <td>NSH</td>\n",
       "      <td>LW</td>\n",
       "      <td>77</td>\n",
       "      <td>30</td>\n",
       "      <td>26</td>\n",
       "      <td>56</td>\n",
       "      <td>0.73</td>\n",
       "      <td>2016</td>\n",
       "    </tr>\n",
       "    <tr>\n",
       "      <th>48</th>\n",
       "      <td>Alexander Wennberg</td>\n",
       "      <td>CLS</td>\n",
       "      <td>C</td>\n",
       "      <td>75</td>\n",
       "      <td>13</td>\n",
       "      <td>43</td>\n",
       "      <td>56</td>\n",
       "      <td>0.75</td>\n",
       "      <td>2016</td>\n",
       "    </tr>\n",
       "  </tbody>\n",
       "</table>\n",
       "</div>"
      ],
      "text/plain": [
       "                  Name Team POS  GP   G   A  PTS  Points per Game  Year\n",
       "49         Jack Eichel  BUF   C  56  23  32   55             0.98  2016\n",
       "41    Evgeny Kuznetsov  WAS   C  76  18  38   56             0.74  2016\n",
       "42  James van Riemsdyk  TOR  LW  76  24  32   56             0.74  2016\n",
       "43      Filip Forsberg  NSH  LW  77  30  26   56             0.73  2016\n",
       "48  Alexander Wennberg  CLS   C  75  13  43   56             0.75  2016"
      ]
     },
     "execution_count": 45,
     "metadata": {},
     "output_type": "execute_result"
    }
   ],
   "source": [
    "least = most_points[most_points['GP'] > 48].sort_values(by = 'PTS', ascending = True).head()\n",
    "least"
   ]
  },
  {
   "cell_type": "markdown",
   "metadata": {},
   "source": [
    "If we wanted to exclude the 2012-2013 season, we can see that in 2016, [Jack Eichel](https://en.wikipedia.org/wiki/Jack_Eichel) of the [Buffalo Sabres](https://en.wikipedia.org/wiki/Buffalo_Sabres) is the lowest point scorer with 23 Goals, 32 Assists totalling 55 points. "
   ]
  },
  {
   "cell_type": "markdown",
   "metadata": {},
   "source": [
    "Now let's look at a plot of all the points in `NHLdata`:"
   ]
  },
  {
   "cell_type": "code",
   "execution_count": 16,
   "metadata": {},
   "outputs": [
    {
     "data": {
      "image/png": "[encoded data removed]",
      "text/plain": [
       "<matplotlib.figure.Figure at 0x240d512a2e8>"
      ]
     },
     "metadata": {},
     "output_type": "display_data"
    }
   ],
   "source": [
    "plt.figure(figsize=(15,5))\n",
    "most_points.groupby('PTS').size().plot(kind='bar',title = 'Points in the NHL from 2007-2016')\n",
    "plt.tight_layout()"
   ]
  },
  {
   "cell_type": "code",
   "execution_count": 17,
   "metadata": {},
   "outputs": [
    {
     "data": {
      "text/plain": [
       "GP                   74.89800\n",
       "G                    27.27800\n",
       "A                    41.74400\n",
       "PTS                  69.02200\n",
       "Points per Game       0.92554\n",
       "Year               2011.50000\n",
       "dtype: float64"
      ]
     },
     "execution_count": 17,
     "metadata": {},
     "output_type": "execute_result"
    }
   ],
   "source": [
    "most_points.mean()"
   ]
  },
  {
   "cell_type": "markdown",
   "metadata": {},
   "source": [
    "`most_points.mean()` gives us the mean of all the point stats in the NHLdata. 69.02 is the mean of all the points of the top scorers in the 10 seasons, which is reflected in the plot. "
   ]
  },
  {
   "cell_type": "markdown",
   "metadata": {},
   "source": [
    "### 2.2 - Rookies by Year"
   ]
  },
  {
   "cell_type": "markdown",
   "metadata": {},
   "source": [
    "Every year in the NHL newly drafted (or undrafted) players can make an impact on a team. Let's create a new dataframe listing the players who have made the top 50 player leaderboard in their first NHL season career. **We want to find out which year from 2007-2016 had the most rookies make the top 50 leaderboard.** From [hockey-reference.com](http://www.hockey-reference.com/awards/rookiemonthly.html) we can find out which players have made it to the top leaderboard and from there we will locate them in the DataFrame `NHLdata`."
   ]
  },
  {
   "cell_type": "code",
   "execution_count": 146,
   "metadata": {},
   "outputs": [],
   "source": [
    "Pkane = get_names.loc['Patrick Kane'] # 2007 \n",
    "NikB = get_names.loc['Nicklas Backstrom'] # 2007 \n",
    "Skinner = get_names.loc['Jeff Skinner'] # 2010\n",
    "MacKinnon = get_names.loc['Nathan MacKinnon'] # 2013\n",
    "Forsberg = get_names.loc['Filip Forsberg'] #2014\n",
    "JohnnyHockey = get_names.loc['Johnny Gaudreau'] #2014\n",
    "Bread = get_names.loc['Artemi Panarin'] # 2015\n",
    "Matthews = get_names.loc['Auston Matthews'] # 2016\n",
    "Laine = get_names.loc['Patrik Laine'] #2016\n",
    "Nylander = get_names.loc['William Nylander'] #2016 \n",
    "Marner = get_names.loc['Mitchell Marner'] #2016"
   ]
  },
  {
   "cell_type": "markdown",
   "metadata": {},
   "source": [
    "Next let's get the first year these players have been in the top leaderboard"
   ]
  },
  {
   "cell_type": "code",
   "execution_count": 147,
   "metadata": {},
   "outputs": [],
   "source": [
    "Pkane = Pkane[0:1]\n",
    "NikB = NikB[0:1]\n",
    "Skinner = Skinner[0:1]\n",
    "MacKinnon = NHL13[34:35].set_index('Name')\n",
    "Forsberg = Forsberg[0:1]\n",
    "JohnnyHockey = JohnnyHockey[0:1]\n",
    "Bread = Bread[0:1]\n",
    "Matthews = NHL16[26:27].set_index('Name')\n",
    "Laine = NHL16[30:31].set_index('Name')\n",
    "Nylander = NHL16[36:37].set_index('Name')\n",
    "Marner = NHL16[34:35].set_index('Name')"
   ]
  },
  {
   "cell_type": "code",
   "execution_count": 148,
   "metadata": {},
   "outputs": [],
   "source": [
    "lor = [Pkane,NikB,Skinner,Forsberg,JohnnyHockey,Bread,MacKinnon,Matthews,Laine,Nylander,Marner]"
   ]
  },
  {
   "cell_type": "code",
   "execution_count": 149,
   "metadata": {},
   "outputs": [],
   "source": [
    "Rookies = pd.concat(lor)"
   ]
  },
  {
   "cell_type": "code",
   "execution_count": 150,
   "metadata": {},
   "outputs": [
    {
     "data": {
      "text/html": [
       "<div>\n",
       "<table border=\"1\" class=\"dataframe\">\n",
       "  <thead>\n",
       "    <tr style=\"text-align: right;\">\n",
       "      <th></th>\n",
       "      <th>Team</th>\n",
       "      <th>POS</th>\n",
       "      <th>GP</th>\n",
       "      <th>G</th>\n",
       "      <th>A</th>\n",
       "      <th>PTS</th>\n",
       "      <th>Points per Game</th>\n",
       "      <th>Year</th>\n",
       "    </tr>\n",
       "    <tr>\n",
       "      <th>Name</th>\n",
       "      <th></th>\n",
       "      <th></th>\n",
       "      <th></th>\n",
       "      <th></th>\n",
       "      <th></th>\n",
       "      <th></th>\n",
       "      <th></th>\n",
       "      <th></th>\n",
       "    </tr>\n",
       "  </thead>\n",
       "  <tbody>\n",
       "    <tr>\n",
       "      <th>Patrick Kane</th>\n",
       "      <td>CHI</td>\n",
       "      <td>RW</td>\n",
       "      <td>82</td>\n",
       "      <td>21</td>\n",
       "      <td>51</td>\n",
       "      <td>72</td>\n",
       "      <td>0.88</td>\n",
       "      <td>2007</td>\n",
       "    </tr>\n",
       "    <tr>\n",
       "      <th>Nicklas Backstrom</th>\n",
       "      <td>WAS</td>\n",
       "      <td>C</td>\n",
       "      <td>82</td>\n",
       "      <td>14</td>\n",
       "      <td>55</td>\n",
       "      <td>69</td>\n",
       "      <td>0.84</td>\n",
       "      <td>2007</td>\n",
       "    </tr>\n",
       "    <tr>\n",
       "      <th>Jeff Skinner</th>\n",
       "      <td>CAR</td>\n",
       "      <td>C</td>\n",
       "      <td>82</td>\n",
       "      <td>31</td>\n",
       "      <td>32</td>\n",
       "      <td>63</td>\n",
       "      <td>0.77</td>\n",
       "      <td>2010</td>\n",
       "    </tr>\n",
       "    <tr>\n",
       "      <th>Filip Forsberg</th>\n",
       "      <td>NSH</td>\n",
       "      <td>RW</td>\n",
       "      <td>82</td>\n",
       "      <td>26</td>\n",
       "      <td>37</td>\n",
       "      <td>63</td>\n",
       "      <td>0.77</td>\n",
       "      <td>2014</td>\n",
       "    </tr>\n",
       "    <tr>\n",
       "      <th>Johnny Gaudreau</th>\n",
       "      <td>CGY</td>\n",
       "      <td>LW</td>\n",
       "      <td>80</td>\n",
       "      <td>24</td>\n",
       "      <td>40</td>\n",
       "      <td>64</td>\n",
       "      <td>0.80</td>\n",
       "      <td>2014</td>\n",
       "    </tr>\n",
       "    <tr>\n",
       "      <th>Artemi Panarin</th>\n",
       "      <td>CHI</td>\n",
       "      <td>LW</td>\n",
       "      <td>80</td>\n",
       "      <td>30</td>\n",
       "      <td>47</td>\n",
       "      <td>77</td>\n",
       "      <td>0.96</td>\n",
       "      <td>2015</td>\n",
       "    </tr>\n",
       "    <tr>\n",
       "      <th>Nathan MacKinnon</th>\n",
       "      <td>COL</td>\n",
       "      <td>C</td>\n",
       "      <td>82</td>\n",
       "      <td>24</td>\n",
       "      <td>39</td>\n",
       "      <td>63</td>\n",
       "      <td>0.77</td>\n",
       "      <td>2013</td>\n",
       "    </tr>\n",
       "    <tr>\n",
       "      <th>Auston Matthews</th>\n",
       "      <td>TOR</td>\n",
       "      <td>C</td>\n",
       "      <td>76</td>\n",
       "      <td>36</td>\n",
       "      <td>27</td>\n",
       "      <td>63</td>\n",
       "      <td>0.83</td>\n",
       "      <td>2016</td>\n",
       "    </tr>\n",
       "    <tr>\n",
       "      <th>Patrik Laine</th>\n",
       "      <td>WPG</td>\n",
       "      <td>RW</td>\n",
       "      <td>69</td>\n",
       "      <td>34</td>\n",
       "      <td>27</td>\n",
       "      <td>61</td>\n",
       "      <td>0.88</td>\n",
       "      <td>2016</td>\n",
       "    </tr>\n",
       "    <tr>\n",
       "      <th>William Nylander</th>\n",
       "      <td>TOR</td>\n",
       "      <td>C</td>\n",
       "      <td>75</td>\n",
       "      <td>21</td>\n",
       "      <td>37</td>\n",
       "      <td>58</td>\n",
       "      <td>0.77</td>\n",
       "      <td>2016</td>\n",
       "    </tr>\n",
       "    <tr>\n",
       "      <th>Mitchell Marner</th>\n",
       "      <td>TOR</td>\n",
       "      <td>C</td>\n",
       "      <td>71</td>\n",
       "      <td>17</td>\n",
       "      <td>41</td>\n",
       "      <td>58</td>\n",
       "      <td>0.82</td>\n",
       "      <td>2016</td>\n",
       "    </tr>\n",
       "  </tbody>\n",
       "</table>\n",
       "</div>"
      ],
      "text/plain": [
       "                  Team POS  GP   G   A  PTS  Points per Game  Year\n",
       "Name                                                              \n",
       "Patrick Kane       CHI  RW  82  21  51   72             0.88  2007\n",
       "Nicklas Backstrom  WAS   C  82  14  55   69             0.84  2007\n",
       "Jeff Skinner       CAR   C  82  31  32   63             0.77  2010\n",
       "Filip Forsberg     NSH  RW  82  26  37   63             0.77  2014\n",
       "Johnny Gaudreau    CGY  LW  80  24  40   64             0.80  2014\n",
       "Artemi Panarin     CHI  LW  80  30  47   77             0.96  2015\n",
       "Nathan MacKinnon   COL   C  82  24  39   63             0.77  2013\n",
       "Auston Matthews    TOR   C  76  36  27   63             0.83  2016\n",
       "Patrik Laine       WPG  RW  69  34  27   61             0.88  2016\n",
       "William Nylander   TOR   C  75  21  37   58             0.77  2016\n",
       "Mitchell Marner    TOR   C  71  17  41   58             0.82  2016"
      ]
     },
     "execution_count": 150,
     "metadata": {},
     "output_type": "execute_result"
    }
   ],
   "source": [
    "Rookies"
   ]
  },
  {
   "cell_type": "markdown",
   "metadata": {},
   "source": [
    "Now we have all the players in their rookie year in a new DataFrame. We can plot out their points:"
   ]
  },
  {
   "cell_type": "code",
   "execution_count": 151,
   "metadata": {},
   "outputs": [
    {
     "data": {
      "image/png": "[encoded data removed]",
      "text/plain": [
       "<matplotlib.figure.Figure at 0x140773343c8>"
      ]
     },
     "metadata": {},
     "output_type": "display_data"
    }
   ],
   "source": [
    "plt.figure(figsize=(10,5))\n",
    "Rookies['PTS'].plot(kind='bar',title='Rookie Point Totals')\n",
    "plt.tight_layout()"
   ]
  },
  {
   "cell_type": "markdown",
   "metadata": {},
   "source": [
    "From the Rookie Point Totals plot, we can see that ** [Artemi Panarin](https://en.wikipedia.org/wiki/Artemi_Panarin)** of the [Chicago Blackhawks](https://en.wikipedia.org/wiki/Chicago_Blackhawks) has the most points in his rookie season. "
   ]
  },
  {
   "cell_type": "markdown",
   "metadata": {},
   "source": [
    "We can group the data by year and see which year produced the most productive rookies"
   ]
  },
  {
   "cell_type": "code",
   "execution_count": 152,
   "metadata": {},
   "outputs": [
    {
     "data": {
      "text/plain": [
       "<matplotlib.axes._subplots.AxesSubplot at 0x1407744db38>"
      ]
     },
     "execution_count": 152,
     "metadata": {},
     "output_type": "execute_result"
    },
    {
     "data": {
      "image/png": "[encoded data removed]",
      "text/plain": [
       "<matplotlib.figure.Figure at 0x14077951d30>"
      ]
     },
     "metadata": {},
     "output_type": "display_data"
    }
   ],
   "source": [
    "Rookies.groupby('Year').size().plot(kind='bar',title = 'Rookies by Year')"
   ]
  },
  {
   "cell_type": "markdown",
   "metadata": {},
   "source": [
    "Here we see that in 2016 we have 4 players in the top leaderboard with 2 in 2007 and 2014 and 1 in 2010, 2013, 2015."
   ]
  },
  {
   "cell_type": "code",
   "execution_count": 161,
   "metadata": {},
   "outputs": [
    {
     "data": {
      "text/plain": [
       "<matplotlib.axes._subplots.AxesSubplot at 0x14077cdb668>"
      ]
     },
     "execution_count": 161,
     "metadata": {},
     "output_type": "execute_result"
    },
    {
     "data": {
      "image/png": "[encoded data removed]",
      "text/plain": [
       "<matplotlib.figure.Figure at 0x14077ac7240>"
      ]
     },
     "metadata": {},
     "output_type": "display_data"
    }
   ],
   "source": [
    "Rookies.groupby('Team').size().plot(kind='bar',color='y')"
   ]
  },
  {
   "cell_type": "markdown",
   "metadata": {},
   "source": [
    "Here we find that the team with the most rookies in the top leaderboard play for the [Toronto Maple Leafs](https://en.wikipedia.org/wiki/Toronto_Maple_Leafs). "
   ]
  },
  {
   "cell_type": "markdown",
   "metadata": {},
   "source": [
    "### 2.3 Top Defenceman"
   ]
  },
  {
   "cell_type": "markdown",
   "metadata": {},
   "source": [
    "Defence is a player position whose primary role is to prevent the opposition from scoring. In the NHL there are two types of defencemen; Offensive and Defensive. ** We want to find out from the 10 seasons, which defenceman has the most points and where that defenceman lies in relation to every other player in the league. ** "
   ]
  },
  {
   "cell_type": "markdown",
   "metadata": {},
   "source": [
    "First we'll need to get the DataFrame consisting of only defencemen. "
   ]
  },
  {
   "cell_type": "code",
   "execution_count": 79,
   "metadata": {},
   "outputs": [
    {
     "data": {
      "text/html": [
       "<div>\n",
       "<table border=\"1\" class=\"dataframe\">\n",
       "  <thead>\n",
       "    <tr style=\"text-align: right;\">\n",
       "      <th></th>\n",
       "      <th>Team</th>\n",
       "      <th>POS</th>\n",
       "      <th>GP</th>\n",
       "      <th>G</th>\n",
       "      <th>A</th>\n",
       "      <th>PTS</th>\n",
       "      <th>Points per Game</th>\n",
       "      <th>Year</th>\n",
       "    </tr>\n",
       "    <tr>\n",
       "      <th>Name</th>\n",
       "      <th></th>\n",
       "      <th></th>\n",
       "      <th></th>\n",
       "      <th></th>\n",
       "      <th></th>\n",
       "      <th></th>\n",
       "      <th></th>\n",
       "      <th></th>\n",
       "    </tr>\n",
       "  </thead>\n",
       "  <tbody>\n",
       "    <tr>\n",
       "      <th>Nicklas Lidstrom</th>\n",
       "      <td>DET</td>\n",
       "      <td>D</td>\n",
       "      <td>76</td>\n",
       "      <td>10</td>\n",
       "      <td>60</td>\n",
       "      <td>70</td>\n",
       "      <td>0.92</td>\n",
       "      <td>2007</td>\n",
       "    </tr>\n",
       "    <tr>\n",
       "      <th>Sergei Gonchar</th>\n",
       "      <td>PIT</td>\n",
       "      <td>D</td>\n",
       "      <td>78</td>\n",
       "      <td>12</td>\n",
       "      <td>53</td>\n",
       "      <td>65</td>\n",
       "      <td>0.83</td>\n",
       "      <td>2007</td>\n",
       "    </tr>\n",
       "    <tr>\n",
       "      <th>Mike Green</th>\n",
       "      <td>WAS</td>\n",
       "      <td>D</td>\n",
       "      <td>68</td>\n",
       "      <td>31</td>\n",
       "      <td>42</td>\n",
       "      <td>73</td>\n",
       "      <td>1.07</td>\n",
       "      <td>2008</td>\n",
       "    </tr>\n",
       "    <tr>\n",
       "      <th>Mike Green</th>\n",
       "      <td>WAS</td>\n",
       "      <td>D</td>\n",
       "      <td>75</td>\n",
       "      <td>19</td>\n",
       "      <td>57</td>\n",
       "      <td>76</td>\n",
       "      <td>1.01</td>\n",
       "      <td>2009</td>\n",
       "    </tr>\n",
       "    <tr>\n",
       "      <th>Duncan Keith</th>\n",
       "      <td>CHI</td>\n",
       "      <td>D</td>\n",
       "      <td>82</td>\n",
       "      <td>14</td>\n",
       "      <td>55</td>\n",
       "      <td>69</td>\n",
       "      <td>0.84</td>\n",
       "      <td>2009</td>\n",
       "    </tr>\n",
       "  </tbody>\n",
       "</table>\n",
       "</div>"
      ],
      "text/plain": [
       "                 Team POS  GP   G   A  PTS  Points per Game  Year\n",
       "Name                                                             \n",
       "Nicklas Lidstrom  DET   D  76  10  60   70             0.92  2007\n",
       "Sergei Gonchar    PIT   D  78  12  53   65             0.83  2007\n",
       "Mike Green        WAS   D  68  31  42   73             1.07  2008\n",
       "Mike Green        WAS   D  75  19  57   76             1.01  2009\n",
       "Duncan Keith      CHI   D  82  14  55   69             0.84  2009"
      ]
     },
     "execution_count": 79,
     "metadata": {},
     "output_type": "execute_result"
    }
   ],
   "source": [
    "Defence = NHLdata[NHLdata['POS'] == 'D'].set_index('Name')\n",
    "Defence.head()"
   ]
  },
  {
   "cell_type": "markdown",
   "metadata": {},
   "source": [
    "Let's plot out the goals, assists and points of the defencemen:"
   ]
  },
  {
   "cell_type": "code",
   "execution_count": 135,
   "metadata": {},
   "outputs": [
    {
     "data": {
      "text/plain": [
       "<matplotlib.axes._subplots.AxesSubplot at 0x14076fdb3c8>"
      ]
     },
     "execution_count": 135,
     "metadata": {},
     "output_type": "execute_result"
    },
    {
     "data": {
      "image/png": "[encoded data removed]",
      "text/plain": [
       "<matplotlib.figure.Figure at 0x14076ff2898>"
      ]
     },
     "metadata": {},
     "output_type": "display_data"
    }
   ],
   "source": [
    "Defence[['G','A','PTS']].plot(kind='bar',title = 'Defencemen Points',figsize=(20,10))"
   ]
  },
  {
   "cell_type": "code",
   "execution_count": 80,
   "metadata": {
    "scrolled": true
   },
   "outputs": [
    {
     "data": {
      "text/html": [
       "<div>\n",
       "<table border=\"1\" class=\"dataframe\">\n",
       "  <thead>\n",
       "    <tr style=\"text-align: right;\">\n",
       "      <th></th>\n",
       "      <th>Team</th>\n",
       "      <th>POS</th>\n",
       "      <th>GP</th>\n",
       "      <th>G</th>\n",
       "      <th>A</th>\n",
       "      <th>PTS</th>\n",
       "      <th>Points per Game</th>\n",
       "      <th>Year</th>\n",
       "    </tr>\n",
       "    <tr>\n",
       "      <th>Name</th>\n",
       "      <th></th>\n",
       "      <th></th>\n",
       "      <th></th>\n",
       "      <th></th>\n",
       "      <th></th>\n",
       "      <th></th>\n",
       "      <th></th>\n",
       "      <th></th>\n",
       "    </tr>\n",
       "  </thead>\n",
       "  <tbody>\n",
       "    <tr>\n",
       "      <th>Erik Karlsson</th>\n",
       "      <td>OTT</td>\n",
       "      <td>D</td>\n",
       "      <td>82</td>\n",
       "      <td>16</td>\n",
       "      <td>66</td>\n",
       "      <td>82</td>\n",
       "      <td>1.00</td>\n",
       "      <td>2015</td>\n",
       "    </tr>\n",
       "    <tr>\n",
       "      <th>Erik Karlsson</th>\n",
       "      <td>OTT</td>\n",
       "      <td>D</td>\n",
       "      <td>81</td>\n",
       "      <td>19</td>\n",
       "      <td>59</td>\n",
       "      <td>78</td>\n",
       "      <td>0.96</td>\n",
       "      <td>2011</td>\n",
       "    </tr>\n",
       "    <tr>\n",
       "      <th>Mike Green</th>\n",
       "      <td>WAS</td>\n",
       "      <td>D</td>\n",
       "      <td>75</td>\n",
       "      <td>19</td>\n",
       "      <td>57</td>\n",
       "      <td>76</td>\n",
       "      <td>1.01</td>\n",
       "      <td>2009</td>\n",
       "    </tr>\n",
       "    <tr>\n",
       "      <th>Brent Burns</th>\n",
       "      <td>SJ</td>\n",
       "      <td>D</td>\n",
       "      <td>82</td>\n",
       "      <td>27</td>\n",
       "      <td>48</td>\n",
       "      <td>75</td>\n",
       "      <td>0.91</td>\n",
       "      <td>2015</td>\n",
       "    </tr>\n",
       "    <tr>\n",
       "      <th>Erik Karlsson</th>\n",
       "      <td>OTT</td>\n",
       "      <td>D</td>\n",
       "      <td>82</td>\n",
       "      <td>20</td>\n",
       "      <td>54</td>\n",
       "      <td>74</td>\n",
       "      <td>0.90</td>\n",
       "      <td>2013</td>\n",
       "    </tr>\n",
       "  </tbody>\n",
       "</table>\n",
       "</div>"
      ],
      "text/plain": [
       "              Team POS  GP   G   A  PTS  Points per Game  Year\n",
       "Name                                                          \n",
       "Erik Karlsson  OTT   D  82  16  66   82             1.00  2015\n",
       "Erik Karlsson  OTT   D  81  19  59   78             0.96  2011\n",
       "Mike Green     WAS   D  75  19  57   76             1.01  2009\n",
       "Brent Burns     SJ   D  82  27  48   75             0.91  2015\n",
       "Erik Karlsson  OTT   D  82  20  54   74             0.90  2013"
      ]
     },
     "execution_count": 80,
     "metadata": {},
     "output_type": "execute_result"
    }
   ],
   "source": [
    "Top_D = Defence.sort_values(by = 'PTS',ascending = False)\n",
    "Top_D.head()"
   ]
  },
  {
   "cell_type": "markdown",
   "metadata": {},
   "source": [
    "We find that ** [Erik Karlsson](https://en.wikipedia.org/wiki/Erik_Karlsson)** of the [Ottawa Senators](https://en.wikipedia.org/wiki/Ottawa_Senators) has the most points of all defencemen in the 10 seasons. \n",
    "\n",
    "Now we want to find how he ranks in relation to other players in the league. "
   ]
  },
  {
   "cell_type": "code",
   "execution_count": 13,
   "metadata": {},
   "outputs": [],
   "source": [
    "NHLsorted = NHLdata.sort_values(by = 'PTS',ascending=False) # Sorted NHLdata PTS high to low\n",
    "NHLsorted = NHLsorted.reset_index()"
   ]
  },
  {
   "cell_type": "code",
   "execution_count": 14,
   "metadata": {},
   "outputs": [],
   "source": [
    "NHLsorted['Rank'] = NHLsorted.index + 1 # Add a column keeping count of the ranking in the list. "
   ]
  },
  {
   "cell_type": "code",
   "execution_count": 15,
   "metadata": {},
   "outputs": [
    {
     "data": {
      "text/html": [
       "<div>\n",
       "<table border=\"1\" class=\"dataframe\">\n",
       "  <thead>\n",
       "    <tr style=\"text-align: right;\">\n",
       "      <th></th>\n",
       "      <th>index</th>\n",
       "      <th>Team</th>\n",
       "      <th>POS</th>\n",
       "      <th>GP</th>\n",
       "      <th>G</th>\n",
       "      <th>A</th>\n",
       "      <th>PTS</th>\n",
       "      <th>Points per Game</th>\n",
       "      <th>Year</th>\n",
       "      <th>Rank</th>\n",
       "    </tr>\n",
       "    <tr>\n",
       "      <th>Name</th>\n",
       "      <th></th>\n",
       "      <th></th>\n",
       "      <th></th>\n",
       "      <th></th>\n",
       "      <th></th>\n",
       "      <th></th>\n",
       "      <th></th>\n",
       "      <th></th>\n",
       "      <th></th>\n",
       "      <th></th>\n",
       "    </tr>\n",
       "  </thead>\n",
       "  <tbody>\n",
       "    <tr>\n",
       "      <th>Evgeni Malkin</th>\n",
       "      <td>0</td>\n",
       "      <td>PIT</td>\n",
       "      <td>C</td>\n",
       "      <td>82</td>\n",
       "      <td>35</td>\n",
       "      <td>78</td>\n",
       "      <td>113</td>\n",
       "      <td>1.38</td>\n",
       "      <td>2008</td>\n",
       "      <td>1</td>\n",
       "    </tr>\n",
       "    <tr>\n",
       "      <th>Alex Ovechkin</th>\n",
       "      <td>0</td>\n",
       "      <td>WAS</td>\n",
       "      <td>LW</td>\n",
       "      <td>82</td>\n",
       "      <td>65</td>\n",
       "      <td>47</td>\n",
       "      <td>112</td>\n",
       "      <td>1.37</td>\n",
       "      <td>2007</td>\n",
       "      <td>2</td>\n",
       "    </tr>\n",
       "    <tr>\n",
       "      <th>Henrik Sedin</th>\n",
       "      <td>0</td>\n",
       "      <td>VAN</td>\n",
       "      <td>C</td>\n",
       "      <td>82</td>\n",
       "      <td>29</td>\n",
       "      <td>83</td>\n",
       "      <td>112</td>\n",
       "      <td>1.37</td>\n",
       "      <td>2009</td>\n",
       "      <td>3</td>\n",
       "    </tr>\n",
       "    <tr>\n",
       "      <th>Alex Ovechkin</th>\n",
       "      <td>1</td>\n",
       "      <td>WAS</td>\n",
       "      <td>LW</td>\n",
       "      <td>79</td>\n",
       "      <td>56</td>\n",
       "      <td>54</td>\n",
       "      <td>110</td>\n",
       "      <td>1.39</td>\n",
       "      <td>2008</td>\n",
       "      <td>4</td>\n",
       "    </tr>\n",
       "    <tr>\n",
       "      <th>Alex Ovechkin</th>\n",
       "      <td>2</td>\n",
       "      <td>WAS</td>\n",
       "      <td>LW</td>\n",
       "      <td>72</td>\n",
       "      <td>50</td>\n",
       "      <td>59</td>\n",
       "      <td>109</td>\n",
       "      <td>1.51</td>\n",
       "      <td>2009</td>\n",
       "      <td>5</td>\n",
       "    </tr>\n",
       "  </tbody>\n",
       "</table>\n",
       "</div>"
      ],
      "text/plain": [
       "               index Team POS  GP   G   A  PTS  Points per Game  Year  Rank\n",
       "Name                                                                       \n",
       "Evgeni Malkin      0  PIT   C  82  35  78  113             1.38  2008     1\n",
       "Alex Ovechkin      0  WAS  LW  82  65  47  112             1.37  2007     2\n",
       "Henrik Sedin       0  VAN   C  82  29  83  112             1.37  2009     3\n",
       "Alex Ovechkin      1  WAS  LW  79  56  54  110             1.39  2008     4\n",
       "Alex Ovechkin      2  WAS  LW  72  50  59  109             1.51  2009     5"
      ]
     },
     "execution_count": 15,
     "metadata": {},
     "output_type": "execute_result"
    }
   ],
   "source": [
    "NHLsorted = NHLsorted.set_index('Name') \n",
    "NHLsorted.head()"
   ]
  },
  {
   "cell_type": "code",
   "execution_count": 16,
   "metadata": {},
   "outputs": [
    {
     "data": {
      "text/html": [
       "<div>\n",
       "<table border=\"1\" class=\"dataframe\">\n",
       "  <thead>\n",
       "    <tr style=\"text-align: right;\">\n",
       "      <th></th>\n",
       "      <th>index</th>\n",
       "      <th>Team</th>\n",
       "      <th>POS</th>\n",
       "      <th>GP</th>\n",
       "      <th>G</th>\n",
       "      <th>A</th>\n",
       "      <th>PTS</th>\n",
       "      <th>Points per Game</th>\n",
       "      <th>Year</th>\n",
       "      <th>Rank</th>\n",
       "    </tr>\n",
       "    <tr>\n",
       "      <th>Name</th>\n",
       "      <th></th>\n",
       "      <th></th>\n",
       "      <th></th>\n",
       "      <th></th>\n",
       "      <th></th>\n",
       "      <th></th>\n",
       "      <th></th>\n",
       "      <th></th>\n",
       "      <th></th>\n",
       "      <th></th>\n",
       "    </tr>\n",
       "  </thead>\n",
       "  <tbody>\n",
       "    <tr>\n",
       "      <th>Erik Karlsson</th>\n",
       "      <td>4</td>\n",
       "      <td>OTT</td>\n",
       "      <td>D</td>\n",
       "      <td>82</td>\n",
       "      <td>16</td>\n",
       "      <td>66</td>\n",
       "      <td>82</td>\n",
       "      <td>1.0</td>\n",
       "      <td>2015</td>\n",
       "      <td>66</td>\n",
       "    </tr>\n",
       "  </tbody>\n",
       "</table>\n",
       "</div>"
      ],
      "text/plain": [
       "               index Team POS  GP   G   A  PTS  Points per Game  Year  Rank\n",
       "Name                                                                       \n",
       "Erik Karlsson      4  OTT   D  82  16  66   82              1.0  2015    66"
      ]
     },
     "execution_count": 16,
     "metadata": {},
     "output_type": "execute_result"
    }
   ],
   "source": [
    "NHLsorted.loc['Erik Karlsson'].head(1)"
   ]
  },
  {
   "cell_type": "markdown",
   "metadata": {},
   "source": [
    "** We find that Erik's best season ranks him 66th overall ** above the 500 players. "
   ]
  },
  {
   "cell_type": "markdown",
   "metadata": {},
   "source": [
    "### 2.4 - Sidney Crosby vs. Alexander Ovechkin"
   ]
  },
  {
   "cell_type": "markdown",
   "metadata": {},
   "source": [
    "One of the greatest rivalries in the NHL currently is between [Sidney Crosby](https://en.wikipedia.org/wiki/Sidney_Crosby) and [Alexander Ovechkin](https://en.wikipedia.org/wiki/Alexander_Ovechkin) since Crosby entered the league in 2005. He was drafted first overall. Ovechkin was drafted first overall the previous year. Let's get their data from 2007-2016 and **find out which of them has scored the most points and averaged the most points per game**. "
   ]
  },
  {
   "cell_type": "markdown",
   "metadata": {},
   "source": [
    "We begin by getting the player data: "
   ]
  },
  {
   "cell_type": "code",
   "execution_count": 100,
   "metadata": {
    "collapsed": true
   },
   "outputs": [],
   "source": [
    "Crosby = get_names.loc['Sidney Crosby']\n",
    "Ovi = get_names.loc['Alex Ovechkin']"
   ]
  },
  {
   "cell_type": "code",
   "execution_count": 101,
   "metadata": {},
   "outputs": [
    {
     "data": {
      "text/html": [
       "<div>\n",
       "<table border=\"1\" class=\"dataframe\">\n",
       "  <thead>\n",
       "    <tr style=\"text-align: right;\">\n",
       "      <th></th>\n",
       "      <th>Team</th>\n",
       "      <th>POS</th>\n",
       "      <th>GP</th>\n",
       "      <th>G</th>\n",
       "      <th>A</th>\n",
       "      <th>PTS</th>\n",
       "      <th>Points per Game</th>\n",
       "      <th>Year</th>\n",
       "    </tr>\n",
       "    <tr>\n",
       "      <th>Name</th>\n",
       "      <th></th>\n",
       "      <th></th>\n",
       "      <th></th>\n",
       "      <th></th>\n",
       "      <th></th>\n",
       "      <th></th>\n",
       "      <th></th>\n",
       "      <th></th>\n",
       "    </tr>\n",
       "  </thead>\n",
       "  <tbody>\n",
       "    <tr>\n",
       "      <th>Sidney Crosby</th>\n",
       "      <td>PIT</td>\n",
       "      <td>C</td>\n",
       "      <td>53</td>\n",
       "      <td>24</td>\n",
       "      <td>48</td>\n",
       "      <td>72</td>\n",
       "      <td>1.36</td>\n",
       "      <td>2007</td>\n",
       "    </tr>\n",
       "    <tr>\n",
       "      <th>Sidney Crosby</th>\n",
       "      <td>PIT</td>\n",
       "      <td>C</td>\n",
       "      <td>77</td>\n",
       "      <td>33</td>\n",
       "      <td>70</td>\n",
       "      <td>103</td>\n",
       "      <td>1.34</td>\n",
       "      <td>2008</td>\n",
       "    </tr>\n",
       "    <tr>\n",
       "      <th>Sidney Crosby</th>\n",
       "      <td>PIT</td>\n",
       "      <td>C</td>\n",
       "      <td>81</td>\n",
       "      <td>51</td>\n",
       "      <td>58</td>\n",
       "      <td>109</td>\n",
       "      <td>1.35</td>\n",
       "      <td>2009</td>\n",
       "    </tr>\n",
       "    <tr>\n",
       "      <th>Sidney Crosby</th>\n",
       "      <td>PIT</td>\n",
       "      <td>C</td>\n",
       "      <td>41</td>\n",
       "      <td>32</td>\n",
       "      <td>34</td>\n",
       "      <td>66</td>\n",
       "      <td>1.61</td>\n",
       "      <td>2010</td>\n",
       "    </tr>\n",
       "    <tr>\n",
       "      <th>Sidney Crosby</th>\n",
       "      <td>PIT</td>\n",
       "      <td>C</td>\n",
       "      <td>36</td>\n",
       "      <td>15</td>\n",
       "      <td>41</td>\n",
       "      <td>56</td>\n",
       "      <td>1.56</td>\n",
       "      <td>2012</td>\n",
       "    </tr>\n",
       "    <tr>\n",
       "      <th>Sidney Crosby</th>\n",
       "      <td>PIT</td>\n",
       "      <td>C</td>\n",
       "      <td>80</td>\n",
       "      <td>36</td>\n",
       "      <td>68</td>\n",
       "      <td>104</td>\n",
       "      <td>1.30</td>\n",
       "      <td>2013</td>\n",
       "    </tr>\n",
       "    <tr>\n",
       "      <th>Sidney Crosby</th>\n",
       "      <td>PIT</td>\n",
       "      <td>C</td>\n",
       "      <td>77</td>\n",
       "      <td>28</td>\n",
       "      <td>56</td>\n",
       "      <td>84</td>\n",
       "      <td>1.09</td>\n",
       "      <td>2014</td>\n",
       "    </tr>\n",
       "    <tr>\n",
       "      <th>Sidney Crosby</th>\n",
       "      <td>PIT</td>\n",
       "      <td>C</td>\n",
       "      <td>80</td>\n",
       "      <td>36</td>\n",
       "      <td>49</td>\n",
       "      <td>85</td>\n",
       "      <td>1.06</td>\n",
       "      <td>2015</td>\n",
       "    </tr>\n",
       "    <tr>\n",
       "      <th>Sidney Crosby</th>\n",
       "      <td>PIT</td>\n",
       "      <td>C</td>\n",
       "      <td>70</td>\n",
       "      <td>42</td>\n",
       "      <td>40</td>\n",
       "      <td>82</td>\n",
       "      <td>1.17</td>\n",
       "      <td>2016</td>\n",
       "    </tr>\n",
       "  </tbody>\n",
       "</table>\n",
       "</div>"
      ],
      "text/plain": [
       "              Team POS  GP   G   A  PTS  Points per Game  Year\n",
       "Name                                                          \n",
       "Sidney Crosby  PIT   C  53  24  48   72             1.36  2007\n",
       "Sidney Crosby  PIT   C  77  33  70  103             1.34  2008\n",
       "Sidney Crosby  PIT   C  81  51  58  109             1.35  2009\n",
       "Sidney Crosby  PIT   C  41  32  34   66             1.61  2010\n",
       "Sidney Crosby  PIT   C  36  15  41   56             1.56  2012\n",
       "Sidney Crosby  PIT   C  80  36  68  104             1.30  2013\n",
       "Sidney Crosby  PIT   C  77  28  56   84             1.09  2014\n",
       "Sidney Crosby  PIT   C  80  36  49   85             1.06  2015\n",
       "Sidney Crosby  PIT   C  70  42  40   82             1.17  2016"
      ]
     },
     "execution_count": 101,
     "metadata": {},
     "output_type": "execute_result"
    }
   ],
   "source": [
    "Crosby"
   ]
  },
  {
   "cell_type": "markdown",
   "metadata": {},
   "source": [
    "Sidney Crosby was not listed in 2011 due to a concussion. According to his [Wikipedia Page](https://en.wikipedia.org/wiki/Sidney_Crosby) Crosby only had 22 GP, 8 G, 29A, 37 PTS that season. "
   ]
  },
  {
   "cell_type": "code",
   "execution_count": 102,
   "metadata": {},
   "outputs": [
    {
     "data": {
      "text/html": [
       "<div>\n",
       "<table border=\"1\" class=\"dataframe\">\n",
       "  <thead>\n",
       "    <tr style=\"text-align: right;\">\n",
       "      <th></th>\n",
       "      <th>Team</th>\n",
       "      <th>POS</th>\n",
       "      <th>GP</th>\n",
       "      <th>G</th>\n",
       "      <th>A</th>\n",
       "      <th>PTS</th>\n",
       "      <th>Points per Game</th>\n",
       "      <th>Year</th>\n",
       "    </tr>\n",
       "    <tr>\n",
       "      <th>Name</th>\n",
       "      <th></th>\n",
       "      <th></th>\n",
       "      <th></th>\n",
       "      <th></th>\n",
       "      <th></th>\n",
       "      <th></th>\n",
       "      <th></th>\n",
       "      <th></th>\n",
       "    </tr>\n",
       "  </thead>\n",
       "  <tbody>\n",
       "    <tr>\n",
       "      <th>Alex Ovechkin</th>\n",
       "      <td>WAS</td>\n",
       "      <td>LW</td>\n",
       "      <td>82</td>\n",
       "      <td>65</td>\n",
       "      <td>47</td>\n",
       "      <td>112</td>\n",
       "      <td>1.37</td>\n",
       "      <td>2007</td>\n",
       "    </tr>\n",
       "    <tr>\n",
       "      <th>Alex Ovechkin</th>\n",
       "      <td>WAS</td>\n",
       "      <td>LW</td>\n",
       "      <td>79</td>\n",
       "      <td>56</td>\n",
       "      <td>54</td>\n",
       "      <td>110</td>\n",
       "      <td>1.39</td>\n",
       "      <td>2008</td>\n",
       "    </tr>\n",
       "    <tr>\n",
       "      <th>Alex Ovechkin</th>\n",
       "      <td>WAS</td>\n",
       "      <td>LW</td>\n",
       "      <td>72</td>\n",
       "      <td>50</td>\n",
       "      <td>59</td>\n",
       "      <td>109</td>\n",
       "      <td>1.51</td>\n",
       "      <td>2009</td>\n",
       "    </tr>\n",
       "    <tr>\n",
       "      <th>Alex Ovechkin</th>\n",
       "      <td>WAS</td>\n",
       "      <td>LW</td>\n",
       "      <td>79</td>\n",
       "      <td>32</td>\n",
       "      <td>53</td>\n",
       "      <td>85</td>\n",
       "      <td>1.08</td>\n",
       "      <td>2010</td>\n",
       "    </tr>\n",
       "    <tr>\n",
       "      <th>Alex Ovechkin</th>\n",
       "      <td>WAS</td>\n",
       "      <td>LW</td>\n",
       "      <td>78</td>\n",
       "      <td>38</td>\n",
       "      <td>27</td>\n",
       "      <td>65</td>\n",
       "      <td>0.83</td>\n",
       "      <td>2011</td>\n",
       "    </tr>\n",
       "    <tr>\n",
       "      <th>Alex Ovechkin</th>\n",
       "      <td>WAS</td>\n",
       "      <td>RW</td>\n",
       "      <td>48</td>\n",
       "      <td>32</td>\n",
       "      <td>24</td>\n",
       "      <td>56</td>\n",
       "      <td>1.17</td>\n",
       "      <td>2012</td>\n",
       "    </tr>\n",
       "    <tr>\n",
       "      <th>Alex Ovechkin</th>\n",
       "      <td>WAS</td>\n",
       "      <td>RW</td>\n",
       "      <td>78</td>\n",
       "      <td>51</td>\n",
       "      <td>28</td>\n",
       "      <td>79</td>\n",
       "      <td>1.01</td>\n",
       "      <td>2013</td>\n",
       "    </tr>\n",
       "    <tr>\n",
       "      <th>Alex Ovechkin</th>\n",
       "      <td>WAS</td>\n",
       "      <td>LW</td>\n",
       "      <td>81</td>\n",
       "      <td>53</td>\n",
       "      <td>28</td>\n",
       "      <td>81</td>\n",
       "      <td>1.00</td>\n",
       "      <td>2014</td>\n",
       "    </tr>\n",
       "    <tr>\n",
       "      <th>Alex Ovechkin</th>\n",
       "      <td>WAS</td>\n",
       "      <td>LW</td>\n",
       "      <td>79</td>\n",
       "      <td>50</td>\n",
       "      <td>21</td>\n",
       "      <td>71</td>\n",
       "      <td>0.90</td>\n",
       "      <td>2015</td>\n",
       "    </tr>\n",
       "    <tr>\n",
       "      <th>Alex Ovechkin</th>\n",
       "      <td>WAS</td>\n",
       "      <td>LW</td>\n",
       "      <td>76</td>\n",
       "      <td>33</td>\n",
       "      <td>33</td>\n",
       "      <td>66</td>\n",
       "      <td>0.87</td>\n",
       "      <td>2016</td>\n",
       "    </tr>\n",
       "  </tbody>\n",
       "</table>\n",
       "</div>"
      ],
      "text/plain": [
       "              Team POS  GP   G   A  PTS  Points per Game  Year\n",
       "Name                                                          \n",
       "Alex Ovechkin  WAS  LW  82  65  47  112             1.37  2007\n",
       "Alex Ovechkin  WAS  LW  79  56  54  110             1.39  2008\n",
       "Alex Ovechkin  WAS  LW  72  50  59  109             1.51  2009\n",
       "Alex Ovechkin  WAS  LW  79  32  53   85             1.08  2010\n",
       "Alex Ovechkin  WAS  LW  78  38  27   65             0.83  2011\n",
       "Alex Ovechkin  WAS  RW  48  32  24   56             1.17  2012\n",
       "Alex Ovechkin  WAS  RW  78  51  28   79             1.01  2013\n",
       "Alex Ovechkin  WAS  LW  81  53  28   81             1.00  2014\n",
       "Alex Ovechkin  WAS  LW  79  50  21   71             0.90  2015\n",
       "Alex Ovechkin  WAS  LW  76  33  33   66             0.87  2016"
      ]
     },
     "execution_count": 102,
     "metadata": {},
     "output_type": "execute_result"
    }
   ],
   "source": [
    "Ovi"
   ]
  },
  {
   "cell_type": "markdown",
   "metadata": {},
   "source": [
    "We can see that in 2009 Crosby and Ovechkin both scored 109 points, however Ovechkin's best season was in 2007 scoring 112 points while Crosby's best was 109 points. Let's add up their Games Played, Goals, Assists, and Points."
   ]
  },
  {
   "cell_type": "code",
   "execution_count": 91,
   "metadata": {},
   "outputs": [],
   "source": [
    "CGP = Crosby['GP'].sum()\n",
    "CGoal = Crosby['G'].sum()\n",
    "CAss = Crosby['A'].sum()\n",
    "CPTS = Crosby['PTS'].sum()"
   ]
  },
  {
   "cell_type": "code",
   "execution_count": 92,
   "metadata": {},
   "outputs": [],
   "source": [
    "OGP = Ovi['GP'].sum()\n",
    "OG = Ovi['G'].sum()\n",
    "OAss = Ovi['A'].sum()\n",
    "OPTS = Ovi['PTS'].sum()"
   ]
  },
  {
   "cell_type": "code",
   "execution_count": 93,
   "metadata": {},
   "outputs": [
    {
     "data": {
      "text/plain": [
       "[595, 297, 464, 761]"
      ]
     },
     "execution_count": 93,
     "metadata": {},
     "output_type": "execute_result"
    }
   ],
   "source": [
    "CrosbyTotal = [CGP,CGoal,CAss,CPTS]\n",
    "CrosbyTotal"
   ]
  },
  {
   "cell_type": "code",
   "execution_count": 94,
   "metadata": {},
   "outputs": [
    {
     "data": {
      "text/plain": [
       "[752, 460, 374, 834]"
      ]
     },
     "execution_count": 94,
     "metadata": {},
     "output_type": "execute_result"
    }
   ],
   "source": [
    "OviTotal = [OGP,OG,OAss,OPTS]\n",
    "OviTotal"
   ]
  },
  {
   "cell_type": "markdown",
   "metadata": {},
   "source": [
    "From the totals, we can see that Sidney Crosby played less games (595) than Alex Ovechkin (752). Sidney Crosby scored 297 Goals, 464 Assists, totalling 761 points from 2007-2016. Alex Ovechkin scored 460 Goals, 374 Assists totalling 834 total points from 2007-2016. We can calculate both player's total average points per game: "
   ]
  },
  {
   "cell_type": "code",
   "execution_count": 95,
   "metadata": {},
   "outputs": [
    {
     "data": {
      "text/plain": [
       "1.2789915966386554"
      ]
     },
     "execution_count": 95,
     "metadata": {},
     "output_type": "execute_result"
    }
   ],
   "source": [
    "CrosbyPPG = CPTS / CGP\n",
    "CrosbyPPG"
   ]
  },
  {
   "cell_type": "code",
   "execution_count": 96,
   "metadata": {},
   "outputs": [
    {
     "data": {
      "text/plain": [
       "1.1090425531914894"
      ]
     },
     "execution_count": 96,
     "metadata": {},
     "output_type": "execute_result"
    }
   ],
   "source": [
    "OviPPG = OPTS / OGP\n",
    "OviPPG"
   ]
  },
  {
   "cell_type": "markdown",
   "metadata": {},
   "source": [
    "Sidney Crosby averaged a higher total points per game (1.28) than Alex Ovechkin (1.11). "
   ]
  },
  {
   "cell_type": "markdown",
   "metadata": {},
   "source": [
    "Now let's plot both of the player's points per game on a single plot. "
   ]
  },
  {
   "cell_type": "code",
   "execution_count": 125,
   "metadata": {},
   "outputs": [],
   "source": [
    "# Resetting the DataFrames and reindex by Year\n",
    "Crosby = Crosby.reset_index().set_index('Year') \n",
    "Ovi = Ovi.reset_index().set_index('Year')"
   ]
  },
  {
   "cell_type": "code",
   "execution_count": 126,
   "metadata": {},
   "outputs": [
    {
     "data": {
      "image/png": "[encoded data removed]",
      "text/plain": [
       "<matplotlib.figure.Figure at 0x240d9addcf8>"
      ]
     },
     "metadata": {},
     "output_type": "display_data"
    }
   ],
   "source": [
    "Crosby['Points per Game'].plot(color = 'y')\n",
    "Ovi['Points per Game'].plot(color = 'r')\n",
    "plt.show()"
   ]
  },
  {
   "cell_type": "markdown",
   "metadata": {},
   "source": [
    "This plot shows that Crosby's points per Game is a lot higher than Ovechkin, which suggests that Crosby is a more productive player than Alex Ovechkin. Notice how Ovechkin averaged a lot more goals per game in the late 2000's and then almost ended up producing half that much by 2016? Why is this happening when Ovechkin has more points than Crosby? "
   ]
  },
  {
   "cell_type": "markdown",
   "metadata": {},
   "source": [
    "Remember ** points per game is calculated from dividing the number of points by games played.** Sidney Crosby spent less time playing due to injuries than Ovechkin, thus when he returned to the ice, he was able to score more points in less games than Ovechkin which results in a higher average point per game. "
   ]
  },
  {
   "cell_type": "markdown",
   "metadata": {},
   "source": [
    "In conclusion, it is hard to say which player is better from this one statistic, however, if we were to just look at which player has the ** most points overall, Alex Ovechkin ** would be the winner. "
   ]
  },
  {
   "cell_type": "markdown",
   "metadata": {},
   "source": [
    "### 2.5 - The Sedin Twins"
   ]
  },
  {
   "cell_type": "markdown",
   "metadata": {
    "collapsed": true
   },
   "source": [
    "[Henrik Sedin](https://en.wikipedia.org/wiki/Henrik_Sedin) and [Daniel Sedin](https://en.wikipedia.org/wiki/Daniel_Sedin) were both drafted together in 1999 by the [Vancouver Canucks](https://en.wikipedia.org/wiki/Vancouver_Canucks) 3rd and 2nd overall respectively. These two have played together throughout their careers both on the NHL and International level. ** Henrik is known for his passing and Daniel for his scoring **, so let's see if this is reflected in their stats. Let's gather the data: "
   ]
  },
  {
   "cell_type": "code",
   "execution_count": 128,
   "metadata": {
    "collapsed": true
   },
   "outputs": [],
   "source": [
    "Hank = get_names.loc['Henrik Sedin']\n",
    "Dany = get_names.loc['Daniel Sedin']"
   ]
  },
  {
   "cell_type": "code",
   "execution_count": 56,
   "metadata": {},
   "outputs": [
    {
     "data": {
      "text/html": [
       "<div>\n",
       "<table border=\"1\" class=\"dataframe\">\n",
       "  <thead>\n",
       "    <tr style=\"text-align: right;\">\n",
       "      <th></th>\n",
       "      <th>Team</th>\n",
       "      <th>POS</th>\n",
       "      <th>GP</th>\n",
       "      <th>G</th>\n",
       "      <th>A</th>\n",
       "      <th>PTS</th>\n",
       "      <th>Points per Game</th>\n",
       "      <th>Year</th>\n",
       "    </tr>\n",
       "    <tr>\n",
       "      <th>Name</th>\n",
       "      <th></th>\n",
       "      <th></th>\n",
       "      <th></th>\n",
       "      <th></th>\n",
       "      <th></th>\n",
       "      <th></th>\n",
       "      <th></th>\n",
       "      <th></th>\n",
       "    </tr>\n",
       "  </thead>\n",
       "  <tbody>\n",
       "    <tr>\n",
       "      <th>Henrik Sedin</th>\n",
       "      <td>VAN</td>\n",
       "      <td>C</td>\n",
       "      <td>82</td>\n",
       "      <td>29</td>\n",
       "      <td>83</td>\n",
       "      <td>112</td>\n",
       "      <td>1.37</td>\n",
       "      <td>2009</td>\n",
       "    </tr>\n",
       "    <tr>\n",
       "      <th>Daniel Sedin</th>\n",
       "      <td>VAN</td>\n",
       "      <td>LW</td>\n",
       "      <td>82</td>\n",
       "      <td>41</td>\n",
       "      <td>63</td>\n",
       "      <td>104</td>\n",
       "      <td>1.27</td>\n",
       "      <td>2010</td>\n",
       "    </tr>\n",
       "    <tr>\n",
       "      <th>Henrik Sedin</th>\n",
       "      <td>VAN</td>\n",
       "      <td>C</td>\n",
       "      <td>82</td>\n",
       "      <td>19</td>\n",
       "      <td>75</td>\n",
       "      <td>94</td>\n",
       "      <td>1.15</td>\n",
       "      <td>2010</td>\n",
       "    </tr>\n",
       "    <tr>\n",
       "      <th>Daniel Sedin</th>\n",
       "      <td>VAN</td>\n",
       "      <td>LW</td>\n",
       "      <td>63</td>\n",
       "      <td>29</td>\n",
       "      <td>56</td>\n",
       "      <td>85</td>\n",
       "      <td>1.35</td>\n",
       "      <td>2009</td>\n",
       "    </tr>\n",
       "    <tr>\n",
       "      <th>Henrik Sedin</th>\n",
       "      <td>VAN</td>\n",
       "      <td>C</td>\n",
       "      <td>82</td>\n",
       "      <td>22</td>\n",
       "      <td>60</td>\n",
       "      <td>82</td>\n",
       "      <td>1.00</td>\n",
       "      <td>2008</td>\n",
       "    </tr>\n",
       "    <tr>\n",
       "      <th>Daniel Sedin</th>\n",
       "      <td>VAN</td>\n",
       "      <td>LW</td>\n",
       "      <td>82</td>\n",
       "      <td>31</td>\n",
       "      <td>51</td>\n",
       "      <td>82</td>\n",
       "      <td>1.00</td>\n",
       "      <td>2008</td>\n",
       "    </tr>\n",
       "    <tr>\n",
       "      <th>Henrik Sedin</th>\n",
       "      <td>VAN</td>\n",
       "      <td>C</td>\n",
       "      <td>82</td>\n",
       "      <td>14</td>\n",
       "      <td>67</td>\n",
       "      <td>81</td>\n",
       "      <td>0.99</td>\n",
       "      <td>2011</td>\n",
       "    </tr>\n",
       "    <tr>\n",
       "      <th>Henrik Sedin</th>\n",
       "      <td>VAN</td>\n",
       "      <td>C</td>\n",
       "      <td>82</td>\n",
       "      <td>15</td>\n",
       "      <td>61</td>\n",
       "      <td>76</td>\n",
       "      <td>0.93</td>\n",
       "      <td>2007</td>\n",
       "    </tr>\n",
       "    <tr>\n",
       "      <th>Daniel Sedin</th>\n",
       "      <td>VAN</td>\n",
       "      <td>LW</td>\n",
       "      <td>82</td>\n",
       "      <td>20</td>\n",
       "      <td>56</td>\n",
       "      <td>76</td>\n",
       "      <td>0.93</td>\n",
       "      <td>2014</td>\n",
       "    </tr>\n",
       "    <tr>\n",
       "      <th>Daniel Sedin</th>\n",
       "      <td>VAN</td>\n",
       "      <td>LW</td>\n",
       "      <td>82</td>\n",
       "      <td>29</td>\n",
       "      <td>45</td>\n",
       "      <td>74</td>\n",
       "      <td>0.90</td>\n",
       "      <td>2007</td>\n",
       "    </tr>\n",
       "    <tr>\n",
       "      <th>Henrik Sedin</th>\n",
       "      <td>VAN</td>\n",
       "      <td>C</td>\n",
       "      <td>82</td>\n",
       "      <td>18</td>\n",
       "      <td>55</td>\n",
       "      <td>73</td>\n",
       "      <td>0.89</td>\n",
       "      <td>2014</td>\n",
       "    </tr>\n",
       "    <tr>\n",
       "      <th>Daniel Sedin</th>\n",
       "      <td>VAN</td>\n",
       "      <td>LW</td>\n",
       "      <td>72</td>\n",
       "      <td>30</td>\n",
       "      <td>37</td>\n",
       "      <td>67</td>\n",
       "      <td>0.93</td>\n",
       "      <td>2011</td>\n",
       "    </tr>\n",
       "    <tr>\n",
       "      <th>Daniel Sedin</th>\n",
       "      <td>VAN</td>\n",
       "      <td>LW</td>\n",
       "      <td>82</td>\n",
       "      <td>28</td>\n",
       "      <td>33</td>\n",
       "      <td>61</td>\n",
       "      <td>0.74</td>\n",
       "      <td>2015</td>\n",
       "    </tr>\n",
       "    <tr>\n",
       "      <th>Henrik Sedin</th>\n",
       "      <td>VAN</td>\n",
       "      <td>C</td>\n",
       "      <td>48</td>\n",
       "      <td>11</td>\n",
       "      <td>34</td>\n",
       "      <td>45</td>\n",
       "      <td>0.94</td>\n",
       "      <td>2012</td>\n",
       "    </tr>\n",
       "    <tr>\n",
       "      <th>Daniel Sedin</th>\n",
       "      <td>VAN</td>\n",
       "      <td>LW</td>\n",
       "      <td>47</td>\n",
       "      <td>12</td>\n",
       "      <td>28</td>\n",
       "      <td>40</td>\n",
       "      <td>0.85</td>\n",
       "      <td>2012</td>\n",
       "    </tr>\n",
       "  </tbody>\n",
       "</table>\n",
       "</div>"
      ],
      "text/plain": [
       "             Team POS  GP   G   A  PTS  Points per Game  Year\n",
       "Name                                                         \n",
       "Henrik Sedin  VAN   C  82  29  83  112             1.37  2009\n",
       "Daniel Sedin  VAN  LW  82  41  63  104             1.27  2010\n",
       "Henrik Sedin  VAN   C  82  19  75   94             1.15  2010\n",
       "Daniel Sedin  VAN  LW  63  29  56   85             1.35  2009\n",
       "Henrik Sedin  VAN   C  82  22  60   82             1.00  2008\n",
       "Daniel Sedin  VAN  LW  82  31  51   82             1.00  2008\n",
       "Henrik Sedin  VAN   C  82  14  67   81             0.99  2011\n",
       "Henrik Sedin  VAN   C  82  15  61   76             0.93  2007\n",
       "Daniel Sedin  VAN  LW  82  20  56   76             0.93  2014\n",
       "Daniel Sedin  VAN  LW  82  29  45   74             0.90  2007\n",
       "Henrik Sedin  VAN   C  82  18  55   73             0.89  2014\n",
       "Daniel Sedin  VAN  LW  72  30  37   67             0.93  2011\n",
       "Daniel Sedin  VAN  LW  82  28  33   61             0.74  2015\n",
       "Henrik Sedin  VAN   C  48  11  34   45             0.94  2012\n",
       "Daniel Sedin  VAN  LW  47  12  28   40             0.85  2012"
      ]
     },
     "execution_count": 56,
     "metadata": {},
     "output_type": "execute_result"
    }
   ],
   "source": [
    "Sedins = pd.concat([Hank,Dany]).sort_values(by = 'PTS',ascending=False) # Both twin data listed by PTS high to low\n",
    "Sedins"
   ]
  },
  {
   "cell_type": "code",
   "execution_count": 57,
   "metadata": {
    "collapsed": true
   },
   "outputs": [],
   "source": [
    "HankG = Hank['G'].sum()\n",
    "HankA = Hank['A'].sum()\n",
    "HankP = Hank['PTS'].sum()\n",
    "DanyG = Dany['G'].sum()\n",
    "DanyA = Dany['A'].sum()\n",
    "DanyP = Dany['PTS'].sum()"
   ]
  },
  {
   "cell_type": "code",
   "execution_count": 58,
   "metadata": {},
   "outputs": [
    {
     "name": "stdout",
     "output_type": "stream",
     "text": [
      "128 220\n"
     ]
    }
   ],
   "source": [
    "print(HankG,DanyG)"
   ]
  },
  {
   "cell_type": "markdown",
   "metadata": {},
   "source": [
    "In the 10 seasons, Daniel has scored a total of 220 goals while Henrik has scored 128. "
   ]
  },
  {
   "cell_type": "code",
   "execution_count": 59,
   "metadata": {},
   "outputs": [
    {
     "name": "stdout",
     "output_type": "stream",
     "text": [
      "435 369\n"
     ]
    }
   ],
   "source": [
    "print(HankA,DanyA)"
   ]
  },
  {
   "cell_type": "markdown",
   "metadata": {},
   "source": [
    "In the 10 seasons, Henrik scored a total of 435 Assists while Daniel has scored 369"
   ]
  },
  {
   "cell_type": "markdown",
   "metadata": {},
   "source": [
    "Let's compare their total average points per game as we did when we compared Sidney and Alex: "
   ]
  },
  {
   "cell_type": "code",
   "execution_count": 72,
   "metadata": {
    "collapsed": true
   },
   "outputs": [],
   "source": [
    "HankPPG = Hank['PTS'].sum() / Hank['GP'].sum()\n",
    "DanyPPG = Dany['PTS'].sum() / Dany['GP'].sum()"
   ]
  },
  {
   "cell_type": "code",
   "execution_count": 73,
   "metadata": {},
   "outputs": [
    {
     "data": {
      "text/plain": [
       "1.0425925925925925"
      ]
     },
     "execution_count": 73,
     "metadata": {},
     "output_type": "execute_result"
    }
   ],
   "source": [
    "HankPPG"
   ]
  },
  {
   "cell_type": "code",
   "execution_count": 74,
   "metadata": {},
   "outputs": [
    {
     "data": {
      "text/plain": [
       "0.9949324324324325"
      ]
     },
     "execution_count": 74,
     "metadata": {},
     "output_type": "execute_result"
    }
   ],
   "source": [
    "DanyPPG"
   ]
  },
  {
   "cell_type": "markdown",
   "metadata": {},
   "source": [
    "Let's now plot their goals and assists:"
   ]
  },
  {
   "cell_type": "code",
   "execution_count": 132,
   "metadata": {},
   "outputs": [
    {
     "data": {
      "image/png": "[encoded data removed]",
      "text/plain": [
       "<matplotlib.figure.Figure at 0x240d9d6f0b8>"
      ]
     },
     "metadata": {},
     "output_type": "display_data"
    }
   ],
   "source": [
    "Hank = Hank.reset_index().set_index('Year')\n",
    "Dany = Dany.reset_index().set_index('Year')\n",
    "Hank['G'].plot(color = 'blue')\n",
    "Dany['G'].plot(color = 'silver')\n",
    "Hank['A'].plot(color = 'maroon')\n",
    "Dany['A'].plot(color = 'green')\n",
    "plt.show()"
   ]
  },
  {
   "cell_type": "markdown",
   "metadata": {},
   "source": [
    "** This plot shows that Henrik has more assists than Daniel and Daniel has more goals than Henrik in the past 10 seasons. **"
   ]
  }
 ],
 "metadata": {
  "kernelspec": {
   "display_name": "Python 3",
   "language": "python",
   "name": "python3"
  },
  "language_info": {
   "codemirror_mode": {
    "name": "ipython",
    "version": 3
   },
   "file_extension": ".py",
   "mimetype": "text/x-python",
   "name": "python",
   "nbconvert_exporter": "python",
   "pygments_lexer": "ipython3",
   "version": "3.6.1"
  }
 },
 "nbformat": 4,
 "nbformat_minor": 2
}
